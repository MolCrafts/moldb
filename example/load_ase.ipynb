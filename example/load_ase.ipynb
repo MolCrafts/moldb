{
 "cells": [
  {
   "cell_type": "code",
   "execution_count": 1,
   "metadata": {},
   "outputs": [],
   "source": [
    "%load_ext autoreload\n",
    "%autoreload 2\n",
    "import moldb as mdb\n",
    "from pony.orm import *"
   ]
  },
  {
   "cell_type": "code",
   "execution_count": 2,
   "metadata": {},
   "outputs": [],
   "source": [
    "import requests\n",
    "from pathlib import Path\n",
    "if not Path('cubic_perovskites.db').exists():\n",
    "    session = requests.get('https://cmr.fysik.dtu.dk/_downloads/03d2580a2f33d61c6998b803d2d72af0/cubic_perovskites.db')\n",
    "    with open('cubic_perovskites.db', 'wb') as f:\n",
    "        f.write(session.content)"
   ]
  },
  {
   "cell_type": "code",
   "execution_count": 5,
   "metadata": {},
   "outputs": [
    {
     "name": "stdout",
     "output_type": "stream",
     "text": [
      "/workspaces/molcrafts/moldb/example\n"
     ]
    }
   ],
   "source": [
    "!pwd\n",
    "!rm ./cubic_perovskites.sqlite\n",
    "db = mdb.Database()\n",
    "db.bind(provider='sqlite', filename='/workspaces/molcrafts/moldb/example/cubic_perovskites.sqlite', create_db=True)\n",
    "db.load_ase(\n",
    "    \"cubic_perovskites.db\",\n",
    "    selection=\"combination\",\n",
    "    table_name=\"CubicPerovskites\"\n",
    "    extra={\"heat_of_formation_all\": {\"kind\": Required(float), \"unit\": \"eV/atom\", 'dtype': 'float', \"comment\": 'Heat of formation per atom'}},\n",
    ")\n"
   ]
  },
  {
   "cell_type": "code",
   "execution_count": 6,
   "metadata": {},
   "outputs": [
    {
     "data": {
      "text/html": [
       "<pre style=\"white-space:pre;overflow-x:auto;line-height:normal;font-family:Menlo,'DejaVu Sans Mono',consolas,'Courier New',monospace\"><span style=\"font-style: italic\">                                               NameSpace                                                </span>\n",
       "┏━━━━┳━━━━━━━━━━━━━━━━━━━━━━━┳━━━━━━━━━━━━━━━┳━━━━━━━┳━━━━━━━━━┳━━━━━━━━━━━━━━━━━━━━━━━━━━━━┳━━━━━━━━━━┓\n",
       "┃<span style=\"font-weight: bold\"> id </span>┃<span style=\"font-weight: bold\"> name                  </span>┃<span style=\"font-weight: bold\"> unit          </span>┃<span style=\"font-weight: bold\"> dtype </span>┃<span style=\"font-weight: bold\"> shape   </span>┃<span style=\"font-weight: bold\"> comment                    </span>┃<span style=\"font-weight: bold\"> category </span>┃\n",
       "┡━━━━╇━━━━━━━━━━━━━━━━━━━━━━━╇━━━━━━━━━━━━━━━╇━━━━━━━╇━━━━━━━━━╇━━━━━━━━━━━━━━━━━━━━━━━━━━━━╇━━━━━━━━━━┩\n",
       "│ 1  │ id                    │               │       │ []      │                            │          │\n",
       "│ 2  │ unique_id             │               │       │ []      │                            │          │\n",
       "│ 3  │ ctime                 │               │       │ []      │                            │          │\n",
       "│ 4  │ mtime                 │               │       │ []      │                            │          │\n",
       "│ 5  │ user                  │               │       │ []      │                            │          │\n",
       "│ 6  │ numbers               │               │ int   │ [-1]    │                            │ atoms    │\n",
       "│ 7  │ pbc                   │               │ bool  │ [3]     │                            │          │\n",
       "│ 8  │ cell                  │ angstrom      │ float │ [3, 3]  │                            │          │\n",
       "│ 9  │ positions             │ angstrom      │ float │ [-1, 3] │                            │ atoms    │\n",
       "│ 10 │ energy                │ eV            │ float │ []      │                            │          │\n",
       "│ 11 │ forces                │ eV/angstrom   │ float │ [-1, 3] │                            │          │\n",
       "│ 12 │ stress                │ eV/angstrom^3 │ float │ [6]     │                            │          │\n",
       "│ 13 │ heat_of_formation_all │ eV/atom       │ float │ []      │ Heat of formation per atom │          │\n",
       "└────┴───────────────────────┴───────────────┴───────┴─────────┴────────────────────────────┴──────────┘\n",
       "</pre>\n"
      ],
      "text/plain": [
       "\u001b[3m                                               NameSpace                                                \u001b[0m\n",
       "┏━━━━┳━━━━━━━━━━━━━━━━━━━━━━━┳━━━━━━━━━━━━━━━┳━━━━━━━┳━━━━━━━━━┳━━━━━━━━━━━━━━━━━━━━━━━━━━━━┳━━━━━━━━━━┓\n",
       "┃\u001b[1m \u001b[0m\u001b[1mid\u001b[0m\u001b[1m \u001b[0m┃\u001b[1m \u001b[0m\u001b[1mname                 \u001b[0m\u001b[1m \u001b[0m┃\u001b[1m \u001b[0m\u001b[1munit         \u001b[0m\u001b[1m \u001b[0m┃\u001b[1m \u001b[0m\u001b[1mdtype\u001b[0m\u001b[1m \u001b[0m┃\u001b[1m \u001b[0m\u001b[1mshape  \u001b[0m\u001b[1m \u001b[0m┃\u001b[1m \u001b[0m\u001b[1mcomment                   \u001b[0m\u001b[1m \u001b[0m┃\u001b[1m \u001b[0m\u001b[1mcategory\u001b[0m\u001b[1m \u001b[0m┃\n",
       "┡━━━━╇━━━━━━━━━━━━━━━━━━━━━━━╇━━━━━━━━━━━━━━━╇━━━━━━━╇━━━━━━━━━╇━━━━━━━━━━━━━━━━━━━━━━━━━━━━╇━━━━━━━━━━┩\n",
       "│ 1  │ id                    │               │       │ []      │                            │          │\n",
       "│ 2  │ unique_id             │               │       │ []      │                            │          │\n",
       "│ 3  │ ctime                 │               │       │ []      │                            │          │\n",
       "│ 4  │ mtime                 │               │       │ []      │                            │          │\n",
       "│ 5  │ user                  │               │       │ []      │                            │          │\n",
       "│ 6  │ numbers               │               │ int   │ [-1]    │                            │ atoms    │\n",
       "│ 7  │ pbc                   │               │ bool  │ [3]     │                            │          │\n",
       "│ 8  │ cell                  │ angstrom      │ float │ [3, 3]  │                            │          │\n",
       "│ 9  │ positions             │ angstrom      │ float │ [-1, 3] │                            │ atoms    │\n",
       "│ 10 │ energy                │ eV            │ float │ []      │                            │          │\n",
       "│ 11 │ forces                │ eV/angstrom   │ float │ [-1, 3] │                            │          │\n",
       "│ 12 │ stress                │ eV/angstrom^3 │ float │ [6]     │                            │          │\n",
       "│ 13 │ heat_of_formation_all │ eV/atom       │ float │ []      │ Heat of formation per atom │          │\n",
       "└────┴───────────────────────┴───────────────┴───────┴─────────┴────────────────────────────┴──────────┘\n"
      ]
     },
     "metadata": {},
     "output_type": "display_data"
    }
   ],
   "source": [
    "db.show_table('NameSpace', n_rows=None)"
   ]
  },
  {
   "cell_type": "code",
   "execution_count": 7,
   "metadata": {},
   "outputs": [
    {
     "ename": "KeyError",
     "evalue": "'cubic_perovskites'",
     "output_type": "error",
     "traceback": [
      "\u001b[0;31m---------------------------------------------------------------------------\u001b[0m",
      "\u001b[0;31mKeyError\u001b[0m                                  Traceback (most recent call last)",
      "Cell \u001b[0;32mIn[7], line 51\u001b[0m\n\u001b[1;32m     47\u001b[0m         d \u001b[38;5;241m=\u001b[39m \u001b[38;5;28mself\u001b[39m\u001b[38;5;241m.\u001b[39mtable[idx \u001b[38;5;241m+\u001b[39m \u001b[38;5;241m1\u001b[39m]\n\u001b[1;32m     48\u001b[0m         \u001b[38;5;28;01mreturn\u001b[39;00m \u001b[38;5;28mself\u001b[39m\u001b[38;5;241m.\u001b[39mto_frame(d)\n\u001b[0;32m---> 51\u001b[0m perovskites \u001b[38;5;241m=\u001b[39m \u001b[43mMolDBDataset\u001b[49m\u001b[43m(\u001b[49m\u001b[38;5;124;43m\"\u001b[39;49m\u001b[38;5;124;43mcubic_perovskites\u001b[39;49m\u001b[38;5;124;43m\"\u001b[39;49m\u001b[43m,\u001b[49m\u001b[43m \u001b[49m\u001b[43mdb\u001b[49m\u001b[43m)\u001b[49m\n\u001b[1;32m     52\u001b[0m frames \u001b[38;5;241m=\u001b[39m perovskites\u001b[38;5;241m.\u001b[39mpreload()\n",
      "Cell \u001b[0;32mIn[7], line 19\u001b[0m, in \u001b[0;36mMolDBDataset.__init__\u001b[0;34m(self, name, db, table_name)\u001b[0m\n\u001b[1;32m     17\u001b[0m \u001b[38;5;28mself\u001b[39m\u001b[38;5;241m.\u001b[39mname \u001b[38;5;241m=\u001b[39m name\n\u001b[1;32m     18\u001b[0m \u001b[38;5;28mself\u001b[39m\u001b[38;5;241m.\u001b[39mtable_name \u001b[38;5;241m=\u001b[39m table_name \u001b[38;5;129;01mor\u001b[39;00m name\n\u001b[0;32m---> 19\u001b[0m \u001b[38;5;28mself\u001b[39m\u001b[38;5;241m.\u001b[39mtable \u001b[38;5;241m=\u001b[39m \u001b[43mdb\u001b[49m\u001b[38;5;241;43m.\u001b[39;49m\u001b[43mentities\u001b[49m\u001b[43m[\u001b[49m\u001b[38;5;28;43mself\u001b[39;49m\u001b[38;5;241;43m.\u001b[39;49m\u001b[43mtable_name\u001b[49m\u001b[43m]\u001b[49m\n\u001b[1;32m     21\u001b[0m \u001b[38;5;28;01mfor\u001b[39;00m i \u001b[38;5;129;01min\u001b[39;00m db\u001b[38;5;241m.\u001b[39mentities[\u001b[38;5;124mf\u001b[39m\u001b[38;5;124m\"\u001b[39m\u001b[38;5;132;01m{\u001b[39;00m\u001b[38;5;28mself\u001b[39m\u001b[38;5;241m.\u001b[39mtable_name\u001b[38;5;132;01m}\u001b[39;00m\u001b[38;5;124mNameSpace\u001b[39m\u001b[38;5;124m\"\u001b[39m]\u001b[38;5;241m.\u001b[39mselect():\n\u001b[1;32m     22\u001b[0m     alias \u001b[38;5;241m=\u001b[39m {k: v \u001b[38;5;28;01mfor\u001b[39;00m k, v \u001b[38;5;129;01min\u001b[39;00m i\u001b[38;5;241m.\u001b[39mto_dict()\u001b[38;5;241m.\u001b[39mitems() \u001b[38;5;28;01mif\u001b[39;00m k \u001b[38;5;241m!=\u001b[39m \u001b[38;5;124m\"\u001b[39m\u001b[38;5;124mid\u001b[39m\u001b[38;5;124m\"\u001b[39m}\n",
      "\u001b[0;31mKeyError\u001b[0m: 'cubic_perovskites'"
     ]
    }
   ],
   "source": [
    "import molpot as mpot\n",
    "from moldb import from_orm\n",
    "from typing import Callable\n",
    "\n",
    "\n",
    "ase_field_mapping = {\n",
    "    \"numbers\": \"Z\",\n",
    "    \"positions\": \"xyz\",\n",
    "}\n",
    "\n",
    "\n",
    "class MolDBDataset(mpot.Dataset):\n",
    "\n",
    "    def __init__(self, name, db, table_name:str|None=None):\n",
    "        super().__init__(name)\n",
    "        self.db = db\n",
    "        self.name = name\n",
    "        self.table_name = table_name or name\n",
    "        self.table = db.entities[self.table_name]\n",
    "\n",
    "        for i in db.entities[f\"{self.table_name}NameSpace\"].select():\n",
    "            alias = {k: v for k, v in i.to_dict().items() if k != \"id\"}\n",
    "            alias['name'] = ase_field_mapping.get(alias['name'], alias['name'])\n",
    "            self.labels.set(**alias)\n",
    "\n",
    "    def preload(self, selection: Callable | None = None):\n",
    "        data = []\n",
    "        if selection is None:\n",
    "            selection = lambda _: True\n",
    "\n",
    "        for d in self.table.select(selection):\n",
    "            data.append(self.to_frame(d))\n",
    "        return data\n",
    "\n",
    "    def __len__(self):\n",
    "        return self.table.select().count()\n",
    "\n",
    "    def to_frame(self, d):\n",
    "        return mpot.Frame(\n",
    "            {\n",
    "                self.labels[ase_field_mapping.get(k, k)].key[1:]: from_orm(v)\n",
    "                for k, v in d.to_dict().items()  # promote dataset to top by remove namespace\n",
    "            }\n",
    "        )\n",
    "\n",
    "    def __getitem__(self, idx):\n",
    "        d = self.table[idx + 1]\n",
    "        return self.to_frame(d)\n",
    "\n",
    "\n",
    "perovskites = MolDBDataset(\"cubic_perovskites\", db)\n",
    "frames = perovskites.preload()"
   ]
  },
  {
   "cell_type": "code",
   "execution_count": 127,
   "metadata": {},
   "outputs": [
    {
     "data": {
      "text/plain": [
       "_StringKeys(dict_keys(['heat_of_formation_all', 'id', 'unique_id', 'ctime', 'mtime', 'user', 'atoms', 'pbc', 'cell']))"
      ]
     },
     "execution_count": 127,
     "metadata": {},
     "output_type": "execute_result"
    }
   ],
   "source": [
    "frames[0].keys()"
   ]
  },
  {
   "cell_type": "code",
   "execution_count": 128,
   "metadata": {},
   "outputs": [
    {
     "data": {
      "text/plain": [
       "TensorDict(\n",
       "    fields={\n",
       "        Z: Tensor(shape=torch.Size([5]), device=cpu, dtype=torch.int32, is_shared=False),\n",
       "        xyz: Tensor(shape=torch.Size([5, 3]), device=cpu, dtype=torch.float64, is_shared=False)},\n",
       "    batch_size=torch.Size([]),\n",
       "    device=None,\n",
       "    is_shared=False)"
      ]
     },
     "execution_count": 128,
     "metadata": {},
     "output_type": "execute_result"
    }
   ],
   "source": [
    "frame = frames[0]\n",
    "frame['atoms']"
   ]
  },
  {
   "cell_type": "code",
   "execution_count": 129,
   "metadata": {},
   "outputs": [
    {
     "ename": "AttributeError",
     "evalue": "module 'molpot.alias' has no attribute 'atom_batch_mask'",
     "output_type": "error",
     "traceback": [
      "\u001b[0;31m---------------------------------------------------------------------------\u001b[0m",
      "\u001b[0;31mAttributeError\u001b[0m                            Traceback (most recent call last)",
      "Cell \u001b[0;32mIn[129], line 2\u001b[0m\n\u001b[1;32m      1\u001b[0m dl \u001b[38;5;241m=\u001b[39m mpot\u001b[38;5;241m.\u001b[39mDataLoader(perovskites, batch_size\u001b[38;5;241m=\u001b[39m\u001b[38;5;241m10\u001b[39m)\n\u001b[0;32m----> 2\u001b[0m \u001b[38;5;28;43;01mfor\u001b[39;49;00m\u001b[43m \u001b[49m\u001b[43md\u001b[49m\u001b[43m \u001b[49m\u001b[38;5;129;43;01min\u001b[39;49;00m\u001b[43m \u001b[49m\u001b[43mdl\u001b[49m\u001b[43m:\u001b[49m\n\u001b[1;32m      3\u001b[0m \u001b[43m    \u001b[49m\u001b[38;5;28;43mprint\u001b[39;49m\u001b[43m(\u001b[49m\u001b[43md\u001b[49m\u001b[43m)\u001b[49m\n\u001b[1;32m      4\u001b[0m \u001b[43m    \u001b[49m\u001b[38;5;28;43;01mbreak\u001b[39;49;00m\n",
      "File \u001b[0;32m/opt/conda/lib/python3.12/site-packages/torch/utils/data/dataloader.py:630\u001b[0m, in \u001b[0;36m_BaseDataLoaderIter.__next__\u001b[0;34m(self)\u001b[0m\n\u001b[1;32m    627\u001b[0m \u001b[38;5;28;01mif\u001b[39;00m \u001b[38;5;28mself\u001b[39m\u001b[38;5;241m.\u001b[39m_sampler_iter \u001b[38;5;129;01mis\u001b[39;00m \u001b[38;5;28;01mNone\u001b[39;00m:\n\u001b[1;32m    628\u001b[0m     \u001b[38;5;66;03m# TODO(https://github.com/pytorch/pytorch/issues/76750)\u001b[39;00m\n\u001b[1;32m    629\u001b[0m     \u001b[38;5;28mself\u001b[39m\u001b[38;5;241m.\u001b[39m_reset()  \u001b[38;5;66;03m# type: ignore[call-arg]\u001b[39;00m\n\u001b[0;32m--> 630\u001b[0m data \u001b[38;5;241m=\u001b[39m \u001b[38;5;28;43mself\u001b[39;49m\u001b[38;5;241;43m.\u001b[39;49m\u001b[43m_next_data\u001b[49m\u001b[43m(\u001b[49m\u001b[43m)\u001b[49m\n\u001b[1;32m    631\u001b[0m \u001b[38;5;28mself\u001b[39m\u001b[38;5;241m.\u001b[39m_num_yielded \u001b[38;5;241m+\u001b[39m\u001b[38;5;241m=\u001b[39m \u001b[38;5;241m1\u001b[39m\n\u001b[1;32m    632\u001b[0m \u001b[38;5;28;01mif\u001b[39;00m \u001b[38;5;28mself\u001b[39m\u001b[38;5;241m.\u001b[39m_dataset_kind \u001b[38;5;241m==\u001b[39m _DatasetKind\u001b[38;5;241m.\u001b[39mIterable \u001b[38;5;129;01mand\u001b[39;00m \\\n\u001b[1;32m    633\u001b[0m         \u001b[38;5;28mself\u001b[39m\u001b[38;5;241m.\u001b[39m_IterableDataset_len_called \u001b[38;5;129;01mis\u001b[39;00m \u001b[38;5;129;01mnot\u001b[39;00m \u001b[38;5;28;01mNone\u001b[39;00m \u001b[38;5;129;01mand\u001b[39;00m \\\n\u001b[1;32m    634\u001b[0m         \u001b[38;5;28mself\u001b[39m\u001b[38;5;241m.\u001b[39m_num_yielded \u001b[38;5;241m>\u001b[39m \u001b[38;5;28mself\u001b[39m\u001b[38;5;241m.\u001b[39m_IterableDataset_len_called:\n",
      "File \u001b[0;32m/opt/conda/lib/python3.12/site-packages/torch/utils/data/dataloader.py:673\u001b[0m, in \u001b[0;36m_SingleProcessDataLoaderIter._next_data\u001b[0;34m(self)\u001b[0m\n\u001b[1;32m    671\u001b[0m \u001b[38;5;28;01mdef\u001b[39;00m \u001b[38;5;21m_next_data\u001b[39m(\u001b[38;5;28mself\u001b[39m):\n\u001b[1;32m    672\u001b[0m     index \u001b[38;5;241m=\u001b[39m \u001b[38;5;28mself\u001b[39m\u001b[38;5;241m.\u001b[39m_next_index()  \u001b[38;5;66;03m# may raise StopIteration\u001b[39;00m\n\u001b[0;32m--> 673\u001b[0m     data \u001b[38;5;241m=\u001b[39m \u001b[38;5;28;43mself\u001b[39;49m\u001b[38;5;241;43m.\u001b[39;49m\u001b[43m_dataset_fetcher\u001b[49m\u001b[38;5;241;43m.\u001b[39;49m\u001b[43mfetch\u001b[49m\u001b[43m(\u001b[49m\u001b[43mindex\u001b[49m\u001b[43m)\u001b[49m  \u001b[38;5;66;03m# may raise StopIteration\u001b[39;00m\n\u001b[1;32m    674\u001b[0m     \u001b[38;5;28;01mif\u001b[39;00m \u001b[38;5;28mself\u001b[39m\u001b[38;5;241m.\u001b[39m_pin_memory:\n\u001b[1;32m    675\u001b[0m         data \u001b[38;5;241m=\u001b[39m _utils\u001b[38;5;241m.\u001b[39mpin_memory\u001b[38;5;241m.\u001b[39mpin_memory(data, \u001b[38;5;28mself\u001b[39m\u001b[38;5;241m.\u001b[39m_pin_memory_device)\n",
      "File \u001b[0;32m/opt/conda/lib/python3.12/site-packages/torch/utils/data/_utils/fetch.py:55\u001b[0m, in \u001b[0;36m_MapDatasetFetcher.fetch\u001b[0;34m(self, possibly_batched_index)\u001b[0m\n\u001b[1;32m     53\u001b[0m \u001b[38;5;28;01melse\u001b[39;00m:\n\u001b[1;32m     54\u001b[0m     data \u001b[38;5;241m=\u001b[39m \u001b[38;5;28mself\u001b[39m\u001b[38;5;241m.\u001b[39mdataset[possibly_batched_index]\n\u001b[0;32m---> 55\u001b[0m \u001b[38;5;28;01mreturn\u001b[39;00m \u001b[38;5;28;43mself\u001b[39;49m\u001b[38;5;241;43m.\u001b[39;49m\u001b[43mcollate_fn\u001b[49m\u001b[43m(\u001b[49m\u001b[43mdata\u001b[49m\u001b[43m)\u001b[49m\n",
      "File \u001b[0;32m/workspaces/molcrafts/molpot/src/molpot/pipline/dataloader.py:24\u001b[0m, in \u001b[0;36m_collate_frame\u001b[0;34m(batch)\u001b[0m\n\u001b[1;32m     21\u001b[0m \u001b[38;5;28;01melse\u001b[39;00m:\n\u001b[1;32m     22\u001b[0m     n_atoms_list \u001b[38;5;241m=\u001b[39m coll_batch[alias\u001b[38;5;241m.\u001b[39mn_atoms]\n\u001b[0;32m---> 24\u001b[0m coll_frame[\u001b[43malias\u001b[49m\u001b[38;5;241;43m.\u001b[39;49m\u001b[43matom_batch_mask\u001b[49m] \u001b[38;5;241m=\u001b[39m torch\u001b[38;5;241m.\u001b[39mcat(\n\u001b[1;32m     25\u001b[0m     [torch\u001b[38;5;241m.\u001b[39mfull((t,), fill_value\u001b[38;5;241m=\u001b[39mi) \u001b[38;5;28;01mfor\u001b[39;00m i, t \u001b[38;5;129;01min\u001b[39;00m \u001b[38;5;28menumerate\u001b[39m(n_atoms_list)]\n\u001b[1;32m     26\u001b[0m )\n\u001b[1;32m     28\u001b[0m \u001b[38;5;66;03m# offset of atom\u001b[39;00m\n\u001b[1;32m     29\u001b[0m atomistic_offset \u001b[38;5;241m=\u001b[39m torch\u001b[38;5;241m.\u001b[39mcumsum(n_atoms_list\u001b[38;5;241m.\u001b[39msqueeze(), dim\u001b[38;5;241m=\u001b[39m\u001b[38;5;241m0\u001b[39m)\n",
      "\u001b[0;31mAttributeError\u001b[0m: module 'molpot.alias' has no attribute 'atom_batch_mask'"
     ]
    }
   ],
   "source": [
    "dl = mpot.DataLoader(perovskites, batch_size=10)\n",
    "for d in dl:\n",
    "    print(d)\n",
    "    break"
   ]
  },
  {
   "cell_type": "code",
   "execution_count": null,
   "metadata": {},
   "outputs": [],
   "source": []
  }
 ],
 "metadata": {
  "kernelspec": {
   "display_name": "base",
   "language": "python",
   "name": "python3"
  },
  "language_info": {
   "codemirror_mode": {
    "name": "ipython",
    "version": 3
   },
   "file_extension": ".py",
   "mimetype": "text/x-python",
   "name": "python",
   "nbconvert_exporter": "python",
   "pygments_lexer": "ipython3",
   "version": "3.12.6"
  }
 },
 "nbformat": 4,
 "nbformat_minor": 2
}
