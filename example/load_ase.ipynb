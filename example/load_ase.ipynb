{
 "cells": [
  {
   "cell_type": "code",
   "execution_count": 1,
   "metadata": {},
   "outputs": [],
   "source": [
    "%load_ext autoreload\n",
    "%autoreload 2\n",
    "import moldb as mdb\n",
    "from pony.orm import *"
   ]
  },
  {
   "cell_type": "code",
   "execution_count": 2,
   "metadata": {},
   "outputs": [],
   "source": [
    "import requests\n",
    "from pathlib import Path\n",
    "if not Path('cubic_perovskites.db').exists():\n",
    "    session = requests.get('https://cmr.fysik.dtu.dk/_downloads/03d2580a2f33d61c6998b803d2d72af0/cubic_perovskites.db')\n",
    "    with open('cubic_perovskites.db', 'wb') as f:\n",
    "        f.write(session.content)"
   ]
  },
  {
   "cell_type": "code",
   "execution_count": 3,
   "metadata": {},
   "outputs": [],
   "source": [
    "db = mdb.Database()\n",
    "entity = db.def_entity('Main', {\n",
    "    'heat_of_formation_all': mdb.Required(float),\n",
    "    'standard_energy': mdb.Required(float),\n",
    "    'combination': mdb.Required(str)\n",
    "})\n",
    "db.bind(provider='sqlite', filename='/workspaces/molcrafts/moldb/example/cubic_perovskites.sqlite', create_db=True)\n",
    "db.generate_mapping(create_tables=True)\n",
    "db.load_ase('cubic_perovskites.db', entity, selection='combination')"
   ]
  },
  {
   "cell_type": "code",
   "execution_count": 22,
   "metadata": {},
   "outputs": [
    {
     "data": {
      "text/html": [
       "<pre style=\"white-space:pre;overflow-x:auto;line-height:normal;font-family:Menlo,'DejaVu Sans Mono',consolas,'Courier New',monospace\"><span style=\"font-style: italic\">          Main table          </span>\n",
       "┏━━━━┳━━━━━━━━━━━━━━━━━━━━━━━┓\n",
       "┃<span style=\"font-weight: bold\"> id </span>┃<span style=\"font-weight: bold\"> heat_of_formation_all </span>┃\n",
       "┡━━━━╇━━━━━━━━━━━━━━━━━━━━━━━┩\n",
       "│ 1  │ 1.2                   │\n",
       "│ 2  │ 0.6                   │\n",
       "│ 3  │ 0.54                  │\n",
       "│ 4  │ 0.88                  │\n",
       "│ 5  │ 1.78                  │\n",
       "└────┴───────────────────────┘\n",
       "</pre>\n"
      ],
      "text/plain": [
       "\u001b[3m          Main table          \u001b[0m\n",
       "┏━━━━┳━━━━━━━━━━━━━━━━━━━━━━━┓\n",
       "┃\u001b[1m \u001b[0m\u001b[1mid\u001b[0m\u001b[1m \u001b[0m┃\u001b[1m \u001b[0m\u001b[1mheat_of_formation_all\u001b[0m\u001b[1m \u001b[0m┃\n",
       "┡━━━━╇━━━━━━━━━━━━━━━━━━━━━━━┩\n",
       "│ 1  │ 1.2                   │\n",
       "│ 2  │ 0.6                   │\n",
       "│ 3  │ 0.54                  │\n",
       "│ 4  │ 0.88                  │\n",
       "│ 5  │ 1.78                  │\n",
       "└────┴───────────────────────┘\n"
      ]
     },
     "execution_count": 22,
     "metadata": {},
     "output_type": "execute_result"
    }
   ],
   "source": [
    "db.show_table(entity, display_column=['id', 'heat_of_formation_all', ])"
   ]
  },
  {
   "cell_type": "code",
   "execution_count": null,
   "metadata": {},
   "outputs": [],
   "source": []
  }
 ],
 "metadata": {
  "kernelspec": {
   "display_name": "base",
   "language": "python",
   "name": "python3"
  },
  "language_info": {
   "codemirror_mode": {
    "name": "ipython",
    "version": 3
   },
   "file_extension": ".py",
   "mimetype": "text/x-python",
   "name": "python",
   "nbconvert_exporter": "python",
   "pygments_lexer": "ipython3",
   "version": "3.12.6"
  }
 },
 "nbformat": 4,
 "nbformat_minor": 2
}
